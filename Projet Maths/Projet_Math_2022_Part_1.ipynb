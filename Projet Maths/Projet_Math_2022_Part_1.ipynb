{
  "cells": [
    {
      "cell_type": "markdown",
      "id": "d7e56707",
      "metadata": {
        "id": "d7e56707"
      },
      "source": [
        "# Projet Mathématique"
      ]
    },
    {
      "cell_type": "markdown",
      "id": "ffb35d94",
      "metadata": {
        "id": "ffb35d94"
      },
      "source": [
        "## Modèle de Cox-Ross-Rubinstein"
      ]
    },
    {
      "cell_type": "markdown",
      "id": "9b60296b",
      "metadata": {
        "id": "9b60296b"
      },
      "source": [
        "## Premier Pricer"
      ]
    },
    {
      "cell_type": "markdown",
      "id": "84b3e0eb",
      "metadata": {
        "id": "84b3e0eb"
      },
      "source": [
        "### Question 3 :"
      ]
    },
    {
      "cell_type": "code",
      "execution_count": null,
      "id": "16fd45c1",
      "metadata": {
        "id": "16fd45c1"
      },
      "outputs": [],
      "source": [
        "def qN (rN, hN, bN) :\n",
        "    return (rN - bN) / (hN - bN)"
      ]
    },
    {
      "cell_type": "code",
      "execution_count": null,
      "id": "c6df47f8",
      "metadata": {
        "id": "c6df47f8"
      },
      "outputs": [],
      "source": [
        "def fact (N) :\n",
        "    if (N == 0) :\n",
        "        return 1\n",
        "    return N * fact (N-1)"
      ]
    },
    {
      "cell_type": "code",
      "execution_count": null,
      "id": "a245e9ea",
      "metadata": {
        "id": "a245e9ea"
      },
      "outputs": [],
      "source": [
        "def coeff_binom (k, N) :\n",
        "    return fact(N) / (fact(k) * fact(N-k))"
      ]
    },
    {
      "cell_type": "code",
      "execution_count": null,
      "id": "2da3ffeb",
      "metadata": {
        "id": "2da3ffeb"
      },
      "outputs": [],
      "source": [
        "def pricer_1 (N, rN, qN, s, hN, bN, f) :\n",
        "    S = 0\n",
        "    for k in range(N + 1):\n",
        "        S += coeff_binom(k,N) * qN**k * (1-qN)**(N-k) * f(s * (1+hN)**k * (1+bN)**(N-k))\n",
        "    return S / ((1 + rN)**N)"
      ]
    },
    {
      "cell_type": "markdown",
      "id": "2669c5b6",
      "metadata": {
        "id": "2669c5b6"
      },
      "source": [
        "### Question 4 :"
      ]
    },
    {
      "cell_type": "code",
      "execution_count": null,
      "id": "214838b3",
      "metadata": {
        "id": "214838b3"
      },
      "outputs": [],
      "source": [
        "def f(x) : \n",
        "    return max(x - 110, 0)"
      ]
    },
    {
      "cell_type": "code",
      "execution_count": null,
      "id": "6744fa7f",
      "metadata": {
        "colab": {
          "base_uri": "https://localhost:8080/"
        },
        "id": "6744fa7f",
        "outputId": "c7dd9d7a-ac17-45b6-e6ca-9964af599eab"
      },
      "outputs": [
        {
          "output_type": "execute_result",
          "data": {
            "text/plain": [
              "26.616941360258558"
            ]
          },
          "metadata": {},
          "execution_count": 1465
        }
      ],
      "source": [
        "pricer_1(20, 0.02, qN(0.02, 0.05, -0.05), 100, 0.05, -0.05, f)"
      ]
    },
    {
      "cell_type": "markdown",
      "id": "2cf29792",
      "metadata": {
        "id": "2cf29792"
      },
      "source": [
        "## Deuxième Pricer"
      ]
    },
    {
      "cell_type": "markdown",
      "id": "125208ff",
      "metadata": {
        "id": "125208ff"
      },
      "source": [
        "### Question 5"
      ]
    },
    {
      "cell_type": "code",
      "execution_count": null,
      "id": "fd91fa11",
      "metadata": {
        "id": "fd91fa11"
      },
      "outputs": [],
      "source": [
        "def pricer_2 (N, rN, hN, bN, s, f) :\n",
        "  v = []\n",
        "  for k in range (N + 1) :\n",
        "    v.append(f(s * ((1 + hN)**k) * (1 + bN)**(N - k)))\n",
        "  q = qN(rN, hN, bN)\n",
        "  v0 = (1 - q) / (1 + rN)\n",
        "  v1 = q / (1 + rN)\n",
        "  while (len(v) != 1) :\n",
        "    w = []\n",
        "    for i in range (len(v) - 1) :\n",
        "      w.append(v0 * v[i] + v1 * v[i + 1])\n",
        "    v = w.copy()\n",
        "  return v[0]"
      ]
    },
    {
      "cell_type": "markdown",
      "source": [
        "### Question 6"
      ],
      "metadata": {
        "id": "s3WrnyUn0GII"
      },
      "id": "s3WrnyUn0GII"
    },
    {
      "cell_type": "code",
      "source": [
        "def g(x) :\n",
        "  return max(x - 100, 0)"
      ],
      "metadata": {
        "id": "JQJjsSOfroED"
      },
      "id": "JQJjsSOfroED",
      "execution_count": null,
      "outputs": []
    },
    {
      "cell_type": "code",
      "source": [
        "pricer_2(3, 0.02, 0.05, -0.05, 100, g)"
      ],
      "metadata": {
        "colab": {
          "base_uri": "https://localhost:8080/"
        },
        "id": "ADozVvyM0O9O",
        "outputId": "8fe714f9-73ce-4614-c43a-b7ba9cdb7536"
      },
      "id": "ADozVvyM0O9O",
      "execution_count": null,
      "outputs": [
        {
          "output_type": "execute_result",
          "data": {
            "text/plain": [
              "7.063436197239376"
            ]
          },
          "metadata": {},
          "execution_count": 1482
        }
      ]
    },
    {
      "cell_type": "code",
      "source": [
        "v = [g(100 * ((1 + 0.05)**k) * (1 + -0.05)**(3 - k)) for k in range(4)]\n",
        "q = qN(0.02, 0.05, -0.05)\n",
        "v0 = (1 - q) / (1 + 0.02)\n",
        "v1 = q / (1 + 0.02)\n",
        "w = [v0 * v[0] + v1 * v[1], v0 * v[1] + v1 * v[2]]\n",
        "y = [v0 * w[0] + v1 * w[1]]\n",
        "print(v)\n",
        "print(w)\n",
        "print(y)"
      ],
      "metadata": {
        "colab": {
          "base_uri": "https://localhost:8080/"
        },
        "id": "cYleE_uLejJl",
        "outputId": "2123a92b-af0c-482b-b76f-873ef03efd93"
      },
      "id": "cYleE_uLejJl",
      "execution_count": null,
      "outputs": [
        {
          "output_type": "stream",
          "name": "stdout",
          "text": [
            "[0, 0, 4.737499999999997, 15.762500000000017]\n",
            "[0.0, 3.2512254901960764]\n",
            "[2.231233179546327]\n"
          ]
        }
      ]
    },
    {
      "cell_type": "markdown",
      "id": "f473f9ad",
      "metadata": {
        "id": "f473f9ad"
      },
      "source": [
        "## Comparaison"
      ]
    },
    {
      "cell_type": "markdown",
      "id": "3e7eb133",
      "metadata": {
        "id": "3e7eb133"
      },
      "source": [
        "### Question 7"
      ]
    },
    {
      "cell_type": "code",
      "source": [
        "import random as rd"
      ],
      "metadata": {
        "id": "wWfKGtxg8BhS"
      },
      "id": "wWfKGtxg8BhS",
      "execution_count": null,
      "outputs": []
    },
    {
      "cell_type": "code",
      "source": [
        "def comparaison (s, rN, hN, bN, f) :\n",
        "  N = rd.randint(5, 15)\n",
        "  q = qN(rN, hN, bN)\n",
        "  p1 = pricer_1(N, rN, q, s, hN, bN, f)\n",
        "  p2 = pricer_2(N, rN, hN, bN, s, f)\n",
        "  return abs(p1 - p2)"
      ],
      "metadata": {
        "id": "_xvYcZwh8Geg"
      },
      "id": "_xvYcZwh8Geg",
      "execution_count": null,
      "outputs": []
    },
    {
      "cell_type": "code",
      "source": [
        "comparaison(100, 0.01, 0.05, -0.05, f)"
      ],
      "metadata": {
        "colab": {
          "base_uri": "https://localhost:8080/"
        },
        "id": "iGY1Eedd8bqU",
        "outputId": "f9545115-2db6-4afa-80d3-e7d1ad410896"
      },
      "id": "iGY1Eedd8bqU",
      "execution_count": null,
      "outputs": [
        {
          "output_type": "execute_result",
          "data": {
            "text/plain": [
              "8.881784197001252e-16"
            ]
          },
          "metadata": {},
          "execution_count": 1472
        }
      ]
    },
    {
      "cell_type": "code",
      "source": [
        "import pandas as pd"
      ],
      "metadata": {
        "id": "nlN4PVSHZj0Z"
      },
      "id": "nlN4PVSHZj0Z",
      "execution_count": null,
      "outputs": []
    },
    {
      "cell_type": "code",
      "source": [
        "tab = []\n",
        "for N in range (5, 16) :\n",
        "  tab.append(abs(pricer_1(N, 0.01, qN(0.01, 0.05, -0.05), 100, 0.05, -0.05, f) - pricer_2(N, 0.01, 0.05, -0.05, 100, f)))\n",
        "pd.DataFrame(data = tab, index = [5, 6, 7, 8, 9, 10, 11, 12, 13, 14, 15]).transpose()"
      ],
      "metadata": {
        "colab": {
          "base_uri": "https://localhost:8080/",
          "height": 81
        },
        "id": "VqEbIHrVZpD6",
        "outputId": "941c2f2d-8416-43ea-b15a-19bcda898ab7"
      },
      "id": "VqEbIHrVZpD6",
      "execution_count": null,
      "outputs": [
        {
          "output_type": "execute_result",
          "data": {
            "text/plain": [
              "             5             6             7    8    9             10  \\\n",
              "0  8.881784e-16  8.881784e-16  8.881784e-16  0.0  0.0  8.881784e-16   \n",
              "\n",
              "             11            12   13            14            15  \n",
              "0  8.881784e-16  3.552714e-15  0.0  1.776357e-15  1.776357e-15  "
            ],
            "text/html": [
              "\n",
              "  <div id=\"df-ce84ff4f-4d92-4004-957d-deee7b67a691\">\n",
              "    <div class=\"colab-df-container\">\n",
              "      <div>\n",
              "<style scoped>\n",
              "    .dataframe tbody tr th:only-of-type {\n",
              "        vertical-align: middle;\n",
              "    }\n",
              "\n",
              "    .dataframe tbody tr th {\n",
              "        vertical-align: top;\n",
              "    }\n",
              "\n",
              "    .dataframe thead th {\n",
              "        text-align: right;\n",
              "    }\n",
              "</style>\n",
              "<table border=\"1\" class=\"dataframe\">\n",
              "  <thead>\n",
              "    <tr style=\"text-align: right;\">\n",
              "      <th></th>\n",
              "      <th>5</th>\n",
              "      <th>6</th>\n",
              "      <th>7</th>\n",
              "      <th>8</th>\n",
              "      <th>9</th>\n",
              "      <th>10</th>\n",
              "      <th>11</th>\n",
              "      <th>12</th>\n",
              "      <th>13</th>\n",
              "      <th>14</th>\n",
              "      <th>15</th>\n",
              "    </tr>\n",
              "  </thead>\n",
              "  <tbody>\n",
              "    <tr>\n",
              "      <th>0</th>\n",
              "      <td>8.881784e-16</td>\n",
              "      <td>8.881784e-16</td>\n",
              "      <td>8.881784e-16</td>\n",
              "      <td>0.0</td>\n",
              "      <td>0.0</td>\n",
              "      <td>8.881784e-16</td>\n",
              "      <td>8.881784e-16</td>\n",
              "      <td>3.552714e-15</td>\n",
              "      <td>0.0</td>\n",
              "      <td>1.776357e-15</td>\n",
              "      <td>1.776357e-15</td>\n",
              "    </tr>\n",
              "  </tbody>\n",
              "</table>\n",
              "</div>\n",
              "      <button class=\"colab-df-convert\" onclick=\"convertToInteractive('df-ce84ff4f-4d92-4004-957d-deee7b67a691')\"\n",
              "              title=\"Convert this dataframe to an interactive table.\"\n",
              "              style=\"display:none;\">\n",
              "        \n",
              "  <svg xmlns=\"http://www.w3.org/2000/svg\" height=\"24px\"viewBox=\"0 0 24 24\"\n",
              "       width=\"24px\">\n",
              "    <path d=\"M0 0h24v24H0V0z\" fill=\"none\"/>\n",
              "    <path d=\"M18.56 5.44l.94 2.06.94-2.06 2.06-.94-2.06-.94-.94-2.06-.94 2.06-2.06.94zm-11 1L8.5 8.5l.94-2.06 2.06-.94-2.06-.94L8.5 2.5l-.94 2.06-2.06.94zm10 10l.94 2.06.94-2.06 2.06-.94-2.06-.94-.94-2.06-.94 2.06-2.06.94z\"/><path d=\"M17.41 7.96l-1.37-1.37c-.4-.4-.92-.59-1.43-.59-.52 0-1.04.2-1.43.59L10.3 9.45l-7.72 7.72c-.78.78-.78 2.05 0 2.83L4 21.41c.39.39.9.59 1.41.59.51 0 1.02-.2 1.41-.59l7.78-7.78 2.81-2.81c.8-.78.8-2.07 0-2.86zM5.41 20L4 18.59l7.72-7.72 1.47 1.35L5.41 20z\"/>\n",
              "  </svg>\n",
              "      </button>\n",
              "      \n",
              "  <style>\n",
              "    .colab-df-container {\n",
              "      display:flex;\n",
              "      flex-wrap:wrap;\n",
              "      gap: 12px;\n",
              "    }\n",
              "\n",
              "    .colab-df-convert {\n",
              "      background-color: #E8F0FE;\n",
              "      border: none;\n",
              "      border-radius: 50%;\n",
              "      cursor: pointer;\n",
              "      display: none;\n",
              "      fill: #1967D2;\n",
              "      height: 32px;\n",
              "      padding: 0 0 0 0;\n",
              "      width: 32px;\n",
              "    }\n",
              "\n",
              "    .colab-df-convert:hover {\n",
              "      background-color: #E2EBFA;\n",
              "      box-shadow: 0px 1px 2px rgba(60, 64, 67, 0.3), 0px 1px 3px 1px rgba(60, 64, 67, 0.15);\n",
              "      fill: #174EA6;\n",
              "    }\n",
              "\n",
              "    [theme=dark] .colab-df-convert {\n",
              "      background-color: #3B4455;\n",
              "      fill: #D2E3FC;\n",
              "    }\n",
              "\n",
              "    [theme=dark] .colab-df-convert:hover {\n",
              "      background-color: #434B5C;\n",
              "      box-shadow: 0px 1px 3px 1px rgba(0, 0, 0, 0.15);\n",
              "      filter: drop-shadow(0px 1px 2px rgba(0, 0, 0, 0.3));\n",
              "      fill: #FFFFFF;\n",
              "    }\n",
              "  </style>\n",
              "\n",
              "      <script>\n",
              "        const buttonEl =\n",
              "          document.querySelector('#df-ce84ff4f-4d92-4004-957d-deee7b67a691 button.colab-df-convert');\n",
              "        buttonEl.style.display =\n",
              "          google.colab.kernel.accessAllowed ? 'block' : 'none';\n",
              "\n",
              "        async function convertToInteractive(key) {\n",
              "          const element = document.querySelector('#df-ce84ff4f-4d92-4004-957d-deee7b67a691');\n",
              "          const dataTable =\n",
              "            await google.colab.kernel.invokeFunction('convertToInteractive',\n",
              "                                                     [key], {});\n",
              "          if (!dataTable) return;\n",
              "\n",
              "          const docLinkHtml = 'Like what you see? Visit the ' +\n",
              "            '<a target=\"_blank\" href=https://colab.research.google.com/notebooks/data_table.ipynb>data table notebook</a>'\n",
              "            + ' to learn more about interactive tables.';\n",
              "          element.innerHTML = '';\n",
              "          dataTable['output_type'] = 'display_data';\n",
              "          await google.colab.output.renderOutput(dataTable, element);\n",
              "          const docLink = document.createElement('div');\n",
              "          docLink.innerHTML = docLinkHtml;\n",
              "          element.appendChild(docLink);\n",
              "        }\n",
              "      </script>\n",
              "    </div>\n",
              "  </div>\n",
              "  "
            ]
          },
          "metadata": {},
          "execution_count": 1474
        }
      ]
    },
    {
      "cell_type": "markdown",
      "id": "c5477650",
      "metadata": {
        "id": "c5477650"
      },
      "source": [
        "## Couverture"
      ]
    },
    {
      "cell_type": "markdown",
      "id": "592d2290",
      "metadata": {
        "id": "592d2290"
      },
      "source": [
        "### Question 10"
      ]
    },
    {
      "cell_type": "code",
      "execution_count": null,
      "id": "a064fa6f",
      "metadata": {
        "id": "a064fa6f"
      },
      "outputs": [],
      "source": [
        "def alpha (N, s, rN, hN, bN, f, S) :\n",
        "  return (f((1 + hN) * S) - f((1 + bN) * S))  / (S * (hN - bN))"
      ]
    },
    {
      "cell_type": "code",
      "source": [
        "def beta (N, s, rN, hN, bN, f, S) :\n",
        "  return (((1 + bN) * f((1 + hN) * S) - (1 + hN) * f((1 + bN) * S))) / ((1 + rN)**N * (bN - hN))"
      ],
      "metadata": {
        "id": "05ibfCzeqgse"
      },
      "id": "05ibfCzeqgse",
      "execution_count": null,
      "outputs": []
    },
    {
      "cell_type": "code",
      "source": [
        "alpha(2, 100, 0.03, 0.05, -0.05, g, 100) # alpha à la date 0"
      ],
      "metadata": {
        "colab": {
          "base_uri": "https://localhost:8080/"
        },
        "id": "hE_G5lCIrVn6",
        "outputId": "b449e7da-aa18-48bb-b119-26c900ac5b5d"
      },
      "id": "hE_G5lCIrVn6",
      "execution_count": null,
      "outputs": [
        {
          "output_type": "execute_result",
          "data": {
            "text/plain": [
              "0.5"
            ]
          },
          "metadata": {},
          "execution_count": 1477
        }
      ]
    },
    {
      "cell_type": "code",
      "source": [
        "beta(2, 100, 0.03, 0.05, -0.05, g, 100) # beta à la date 0"
      ],
      "metadata": {
        "colab": {
          "base_uri": "https://localhost:8080/"
        },
        "id": "Fe7Eo_lasPG_",
        "outputId": "deac52fb-663f-4850-ce2d-a03828cb1b20"
      },
      "id": "Fe7Eo_lasPG_",
      "execution_count": null,
      "outputs": [
        {
          "output_type": "execute_result",
          "data": {
            "text/plain": [
              "-44.77330568385333"
            ]
          },
          "metadata": {},
          "execution_count": 1478
        }
      ]
    },
    {
      "cell_type": "code",
      "source": [
        "def T1 (rN, hN, bN) : \n",
        "  return qN(rN, hN, bN) * (1 + hN) + (1 - qN(rN, hN, bN)) * (1 + bN)"
      ],
      "metadata": {
        "id": "nhg0pF14ufSq"
      },
      "id": "nhg0pF14ufSq",
      "execution_count": null,
      "outputs": []
    },
    {
      "cell_type": "code",
      "source": [
        "alpha(2, 100, 0.03, 0.05, -0.05, g, 100 * (T1(0.03, 0.05, -0.05))) # alpha à la date 1"
      ],
      "metadata": {
        "colab": {
          "base_uri": "https://localhost:8080/"
        },
        "id": "i0cNZzb0r95Z",
        "outputId": "760f0ef9-47cc-43af-c991-9a2443f5c6a0"
      },
      "id": "i0cNZzb0r95Z",
      "execution_count": null,
      "outputs": [
        {
          "output_type": "execute_result",
          "data": {
            "text/plain": [
              "0.7912621359223306"
            ]
          },
          "metadata": {},
          "execution_count": 1480
        }
      ]
    },
    {
      "cell_type": "code",
      "source": [
        "beta(2, 100, 0.03, 0.05, -0.05, g, 100 * (1 + 0.05)) # beta à la date 1"
      ],
      "metadata": {
        "colab": {
          "base_uri": "https://localhost:8080/"
        },
        "id": "AQkFf65dsTHz",
        "outputId": "f477a262-f873-4c09-dcf3-eea83aca9321"
      },
      "id": "AQkFf65dsTHz",
      "execution_count": null,
      "outputs": [
        {
          "output_type": "execute_result",
          "data": {
            "text/plain": [
              "-91.78527665189932"
            ]
          },
          "metadata": {},
          "execution_count": 1481
        }
      ]
    }
  ],
  "metadata": {
    "kernelspec": {
      "display_name": "Python 3 (ipykernel)",
      "language": "python",
      "name": "python3"
    },
    "language_info": {
      "codemirror_mode": {
        "name": "ipython",
        "version": 3
      },
      "file_extension": ".py",
      "mimetype": "text/x-python",
      "name": "python",
      "nbconvert_exporter": "python",
      "pygments_lexer": "ipython3",
      "version": "3.8.10"
    },
    "colab": {
      "name": "Projet_Math_2022_Habbou_Kebli_Khatib.ipynb",
      "provenance": [],
      "collapsed_sections": []
    }
  },
  "nbformat": 4,
  "nbformat_minor": 5
}